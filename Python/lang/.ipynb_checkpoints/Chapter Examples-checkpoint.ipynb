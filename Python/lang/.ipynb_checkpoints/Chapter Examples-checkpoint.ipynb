{
 "metadata": {
  "name": "",
  "signature": "sha256:6151d389237ab9586ad3b20845f60d00725c0a72a7dc2fe0389e8a236cdbffe1"
 },
 "nbformat": 3,
 "nbformat_minor": 0,
 "worksheets": [
  {
   "cells": [
    {
     "cell_type": "code",
     "collapsed": false,
     "input": [
      "from math import sin, pi, sqrt, exp\n",
      "import numpy.lib.scimath as np"
     ],
     "language": "python",
     "metadata": {},
     "outputs": [],
     "prompt_number": 35
    },
    {
     "cell_type": "heading",
     "level": 1,
     "metadata": {},
     "source": [
      "Chapter 3"
     ]
    },
    {
     "cell_type": "markdown",
     "metadata": {},
     "source": [
      "We approximate an integral using Simpson's rule:\n",
      "$$\\int_a^b f(x) \\, dx \\approx \\frac{b-a}{3n} \\left( f(a)+f(b)+ 4 \\sum_{i-1}^{n/2} f(\\left(a+(2i-1)h\\right) + 2 \\sum_{i=1}^{n/2-1} f(a+ 2i\\,h) \\right)$$"
     ]
    },
    {
     "cell_type": "code",
     "collapsed": false,
     "input": [
      "# define Simpson's Rule\n",
      "\n",
      "def Simpson(f,a,b,n=500):\n",
      "    '''Calculates a Simpson-style numerical approximation to \n",
      "    the integral from a to b of some function f\n",
      "    '''\n",
      "    h = (b-a)/float(n)\n",
      "    sum1 = 0\n",
      "    for i in range(1, n//2 +1):\n",
      "        sum1 += f(a + (2*i-1)*h)\n",
      "    sum2 = 0\n",
      "    for i in range(1, n//2):\n",
      "        sum2 += f(a + 2*i*h)\n",
      "        \n",
      "    integral = (b-a)/(3*n)*(f(a)+f(b) + 4*sum1+ 2*sum2)\n",
      "    return integral"
     ],
     "language": "python",
     "metadata": {},
     "outputs": [],
     "prompt_number": 21
    },
    {
     "cell_type": "code",
     "collapsed": false,
     "input": [
      "# create a test function h(x)\n",
      "def h(x):\n",
      "    return (3/2)*sin(x)**3\n",
      "\n",
      "# Try Simpson\n",
      "Simpson(h,0,pi)"
     ],
     "language": "python",
     "metadata": {},
     "outputs": [
      {
       "metadata": {},
       "output_type": "pyout",
       "prompt_number": 24,
       "text": [
        "1.9999999998441378"
       ]
      }
     ],
     "prompt_number": 24
    },
    {
     "cell_type": "heading",
     "level": 2,
     "metadata": {},
     "source": [
      "Exercises"
     ]
    },
    {
     "cell_type": "heading",
     "level": 4,
     "metadata": {},
     "source": [
      "Exercise 3.3"
     ]
    },
    {
     "cell_type": "code",
     "collapsed": false,
     "input": [
      "# Write a function that solves a quadratic\n",
      "\n",
      "def roots(a,b,c):\n",
      "    '''Usage:\n",
      "    Given a quadratic polynomial a*x**2 + b*x+c ==0, returns roots of this polynomial\n",
      "    '''\n",
      "    sol1 = (-b+np.sqrt(b**2-4*a*c))/(2*a)\n",
      "    sol2 = (-b-np.sqrt(b**2-4*a*c))/(2*a)\n",
      "        \n",
      "    return sol1, sol2\n",
      "\n",
      "# Test the function:\n",
      "roots(1,2,1)"
     ],
     "language": "python",
     "metadata": {},
     "outputs": [
      {
       "metadata": {},
       "output_type": "pyout",
       "prompt_number": 32,
       "text": [
        "(-1.0, -1.0)"
       ]
      }
     ],
     "prompt_number": 32
    },
    {
     "cell_type": "heading",
     "level": 3,
     "metadata": {},
     "source": [
      "Exercise 3.9"
     ]
    },
    {
     "cell_type": "markdown",
     "metadata": {},
     "source": [
      "Compute the area of an arbitrary triangle, given it's vertices using this formula:\n",
      "    $$ A = \\frac{1}{2} \\left| x_2\\,y_3 -x_3\\, y_2 - x_1\\,y_3 + x_3\\, y_1 + x_1\\, y_2 - x_2\\, y_1 \\right| $$"
     ]
    },
    {
     "cell_type": "code",
     "collapsed": false,
     "input": [
      "# The input is supposed to come in the form of a nested list\n",
      "def area(lst):\n",
      "    '''Gives the area of a triangle with vertices:\n",
      "    [[x_1,y_1],[x_2,y_2],[x_3,y_3]]\n",
      "    '''\n",
      "    return 0.5*abs(lst[1][0]*lst[2][1] - lst[2][0]*lst[1][1] - lst[0][0]*lst[2][1] + lst[2][0]*lst[0][1] + lst[0][0]*lst[1][1]\n",
      "                   - lst[1][0]*lst[0][1])\n",
      "\n",
      "area([[0,0],[1,0],[0,2]])"
     ],
     "language": "python",
     "metadata": {},
     "outputs": [
      {
       "metadata": {},
       "output_type": "pyout",
       "prompt_number": 33,
       "text": [
        "1.0"
       ]
      }
     ],
     "prompt_number": 33
    },
    {
     "cell_type": "heading",
     "level": 3,
     "metadata": {},
     "source": [
      "Exercise 3.14"
     ]
    },
    {
     "cell_type": "markdown",
     "metadata": {},
     "source": [
      "Implement a Gaussian function \n",
      "    $$f(x) = \\frac{1}{s\\, \\sqrt{2 \\pi}} \\exp \\left[ -\\frac{1}{2} \\left(\\frac{x-m}{s}\\right)^2\\right]$$"
     ]
    },
    {
     "cell_type": "code",
     "collapsed": false,
     "input": [
      "def gauss(x,m=0,s=1):\n",
      "    '''Gives the Gaussian for x'''\n",
      "    return 1/(s*sqrt(2*pi)) * exp(-0.5*((x-m)/s)**2)\n",
      "\n",
      "gauss(0)"
     ],
     "language": "python",
     "metadata": {},
     "outputs": [
      {
       "metadata": {},
       "output_type": "pyout",
       "prompt_number": 46,
       "text": [
        "0.3989422804014327"
       ]
      }
     ],
     "prompt_number": 46
    },
    {
     "cell_type": "raw",
     "metadata": {},
     "source": [
      "**_Note_**: *The above code gives bizarre solutions I feel; wouldn't trust it but can't see the error.*"
     ]
    },
    {
     "cell_type": "heading",
     "level": 3,
     "metadata": {},
     "source": [
      "Exercise 3.32"
     ]
    },
    {
     "cell_type": "markdown",
     "metadata": {},
     "source": [
      "Make a sorted list out of the data. The data is  in the form:\n",
      "    name of star, distance from sun, apparent brightness, luminosity\n",
      "\n",
      "Create a function that writes out three tables:\n",
      " 1. starname vs. distance\n",
      " 2. star name vs. apparent brightness\n",
      " 3. star name vs. luminosity"
     ]
    },
    {
     "cell_type": "code",
     "collapsed": false,
     "input": [
      "# The input data supplied by Langtangen\n",
      "data = [\n",
      "('Alpha Centauri A',    4.3,  0.26,      1.56),\n",
      "('Alpha Centauri B',    4.3,  0.077,     0.45),\n",
      "('Alpha Centauri C',    4.2,  0.00001,   0.00006),\n",
      "(\"Barnard's Star\",      6.0,  0.00004,   0.0005),\n",
      "('Wolf 359',            7.7,  0.000001,  0.00002),\n",
      "('BD +36 degrees 2147', 8.2,  0.0003,    0.006),\n",
      "('Luyten 726-8 A',      8.4,  0.000003,  0.00006),\n",
      "('Luyten 726-8 B',      8.4,  0.000002,  0.00004),\n",
      "('Sirius A',            8.6,  1.00,      23.6),\n",
      "('Sirius B',            8.6,  0.001,     0.003),\n",
      "('Ross 154',            9.4,  0.00002,   0.0005),\n",
      "]\n",
      "\n",
      "# Load sorter function\n",
      "from operator import itemgetter, attrgetter\n",
      "\n",
      "# First sort: distance\n",
      "a = sorted(data,key=itemgetter(1),reverse=True)\n",
      "# Second sort: brightness\n",
      "b = sorted(data, key=itemgetter(2),reverse=True)\n",
      "# Third sort: luminosity\n",
      "c = sorted(data, key=itemgetter(3),reverse=True)\n",
      "\n",
      "# Define the first sorting algorithm\n",
      "print('First sort by Distance:')\n",
      "for item in a:\n",
      "    print('{:20s} {:5g} {:10g} {:10g}'.format(item[0],item[1],item[2],item[3]))\n",
      "print('----------------------------------------------')\n",
      "print('Second sort by Brightness:')\n",
      "for item in b:\n",
      "    print('{:20s} {:5g} {:10g} {:10g}'.format(item[0],item[1],item[2],item[3]))\n",
      "print('----------------------------------------------')\n",
      "print('Third sort by Luminosity:')\n",
      "for item in c:\n",
      "    print('{:20s} {:5g} {:10g} {:10g}'.format(item[0],item[1],item[2],item[3]))"
     ],
     "language": "python",
     "metadata": {},
     "outputs": [
      {
       "output_type": "stream",
       "stream": "stdout",
       "text": [
        "First sort by Distance:\n",
        "Ross 154               9.4      2e-05     0.0005\n",
        "Sirius A               8.6          1       23.6\n",
        "Sirius B               8.6      0.001      0.003\n",
        "Luyten 726-8 A         8.4      3e-06      6e-05\n",
        "Luyten 726-8 B         8.4      2e-06      4e-05\n",
        "BD +36 degrees 2147    8.2     0.0003      0.006\n",
        "Wolf 359               7.7      1e-06      2e-05\n",
        "Barnard's Star           6      4e-05     0.0005\n",
        "Alpha Centauri A       4.3       0.26       1.56\n",
        "Alpha Centauri B       4.3      0.077       0.45\n",
        "Alpha Centauri C       4.2      1e-05      6e-05\n",
        "----------------------------------------------\n",
        "Second sort by Brightness:\n",
        "Sirius A               8.6          1       23.6\n",
        "Alpha Centauri A       4.3       0.26       1.56\n",
        "Alpha Centauri B       4.3      0.077       0.45\n",
        "Sirius B               8.6      0.001      0.003\n",
        "BD +36 degrees 2147    8.2     0.0003      0.006\n",
        "Barnard's Star           6      4e-05     0.0005\n",
        "Ross 154               9.4      2e-05     0.0005\n",
        "Alpha Centauri C       4.2      1e-05      6e-05\n",
        "Luyten 726-8 A         8.4      3e-06      6e-05\n",
        "Luyten 726-8 B         8.4      2e-06      4e-05\n",
        "Wolf 359               7.7      1e-06      2e-05\n",
        "----------------------------------------------\n",
        "Third sort by Luminosity:\n",
        "Sirius A               8.6          1       23.6\n",
        "Alpha Centauri A       4.3       0.26       1.56\n",
        "Alpha Centauri B       4.3      0.077       0.45\n",
        "BD +36 degrees 2147    8.2     0.0003      0.006\n",
        "Sirius B               8.6      0.001      0.003\n",
        "Barnard's Star           6      4e-05     0.0005\n",
        "Ross 154               9.4      2e-05     0.0005\n",
        "Alpha Centauri C       4.2      1e-05      6e-05\n",
        "Luyten 726-8 A         8.4      3e-06      6e-05\n",
        "Luyten 726-8 B         8.4      2e-06      4e-05\n",
        "Wolf 359               7.7      1e-06      2e-05\n"
       ]
      }
     ],
     "prompt_number": 60
    },
    {
     "cell_type": "code",
     "collapsed": false,
     "input": [],
     "language": "python",
     "metadata": {},
     "outputs": []
    }
   ],
   "metadata": {}
  }
 ]
}